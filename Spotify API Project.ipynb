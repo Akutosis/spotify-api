{
 "cells": [
  {
   "cell_type": "code",
   "execution_count": null,
   "metadata": {},
   "outputs": [],
   "source": [
    "#Import Modules\n",
    "from dotenv import load_dotenv\n",
    "import os\n",
    "from spotifyapiclient import SpotifyAPIClient"
   ]
  },
  {
   "cell_type": "code",
   "execution_count": null,
   "metadata": {},
   "outputs": [],
   "source": [
    "#Define Spotify API Credentials\n",
    "load_dotenv('apicredentials.env')\n",
    "\n",
    "client_id = os.getenv('CLIENT_ID')\n",
    "client_secret = os.getenv('CLIENT_SECRET')\n",
    "redirect_uri = os.getenv('REDIRECT_URI')\n",
    "scopes = os.getenv('SCOPES')\n",
    "refresh_token = os.getenv('REFRESH_TOKEN')"
   ]
  },
  {
   "cell_type": "code",
   "execution_count": null,
   "metadata": {},
   "outputs": [],
   "source": [
    "spotify_api_client = SpotifyAPIClient(client_id, client_secret, redirect_uri, scopes, refresh_token)\n",
    "spotify_api_client.get_followed_artists()"
   ]
  },
  {
   "cell_type": "code",
   "execution_count": null,
   "metadata": {},
   "outputs": [],
   "source": [
    "#Artist to explore\n",
    "artist_id = '726WiFmWkohzodUxK3XjHX'\n",
    "\n",
    "#Retrieve Artist's discography\n",
    "spotify_api_client.review_artist_discography(artist_id,r'Reviewed Spotify Tracks.csv')"
   ]
  }
 ],
 "metadata": {
  "kernelspec": {
   "display_name": "mkuo_env",
   "language": "python",
   "name": "python3"
  },
  "language_info": {
   "codemirror_mode": {
    "name": "ipython",
    "version": 3
   },
   "file_extension": ".py",
   "mimetype": "text/x-python",
   "name": "python",
   "nbconvert_exporter": "python",
   "pygments_lexer": "ipython3",
   "version": "3.13.2"
  }
 },
 "nbformat": 4,
 "nbformat_minor": 2
}
